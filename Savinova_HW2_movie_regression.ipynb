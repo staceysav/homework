{
  "nbformat": 4,
  "nbformat_minor": 0,
  "metadata": {
    "kernelspec": {
      "display_name": "Python 3",
      "language": "python",
      "name": "python3"
    },
    "language_info": {
      "codemirror_mode": {
        "name": "ipython",
        "version": 3
      },
      "file_extension": ".py",
      "mimetype": "text/x-python",
      "name": "python",
      "nbconvert_exporter": "python",
      "pygments_lexer": "ipython3",
      "version": "3.8.2"
    },
    "colab": {
      "name": "Savinova_HW2-movie_regression.ipynb",
      "provenance": []
    }
  },
  "cells": [
    {
      "cell_type": "markdown",
      "metadata": {
        "id": "-znjIwS1ykgi"
      },
      "source": [
        "## Регрессия на imdb"
      ]
    },
    {
      "cell_type": "code",
      "metadata": {
        "id": "mlpKFhVcykgs"
      },
      "source": [
        "# ячейка импортов\n",
        "import pandas as pd\n",
        "import numpy as np\n",
        "\n",
        "from sklearn.model_selection import train_test_split\n",
        "from sklearn.metrics import mean_absolute_error, mean_squared_error\n",
        "\n",
        "from sklearn.linear_model import LinearRegression, Ridge, Lasso, ElasticNet\n"
      ],
      "execution_count": 1,
      "outputs": []
    },
    {
      "cell_type": "code",
      "metadata": {
        "colab": {
          "resources": {
            "http://localhost:8080/nbextensions/google.colab/files.js": {
              "data": "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",
              "ok": true,
              "headers": [
                [
                  "content-type",
                  "application/javascript"
                ]
              ],
              "status": 200,
              "status_text": "OK"
            }
          },
          "base_uri": "https://localhost:8080/",
          "height": 75
        },
        "id": "olKoD9vI2xM1",
        "outputId": "463d79db-9cf6-40ce-9ed4-fd888dab69ec"
      },
      "source": [
        "# загрузка файла\n",
        "from google.colab import files\n",
        "uploaded = files.upload()"
      ],
      "execution_count": 2,
      "outputs": [
        {
          "output_type": "display_data",
          "data": {
            "text/html": [
              "\n",
              "     <input type=\"file\" id=\"files-c6e7b896-b24e-4b35-9553-ca1c6f355142\" name=\"files[]\" multiple disabled\n",
              "        style=\"border:none\" />\n",
              "     <output id=\"result-c6e7b896-b24e-4b35-9553-ca1c6f355142\">\n",
              "      Upload widget is only available when the cell has been executed in the\n",
              "      current browser session. Please rerun this cell to enable.\n",
              "      </output>\n",
              "      <script src=\"/nbextensions/google.colab/files.js\"></script> "
            ],
            "text/plain": [
              "<IPython.core.display.HTML object>"
            ]
          },
          "metadata": {
            "tags": []
          }
        },
        {
          "output_type": "stream",
          "text": [
            "Saving IMDB-Movie-Data.csv to IMDB-Movie-Data.csv\n"
          ],
          "name": "stdout"
        }
      ]
    },
    {
      "cell_type": "code",
      "metadata": {
        "colab": {
          "base_uri": "https://localhost:8080/",
          "height": 317
        },
        "id": "U0Ik1WOhykgx",
        "outputId": "9633cc54-439b-4773-cff3-f2a149d83cd4"
      },
      "source": [
        "data = pd.read_csv('IMDB-Movie-Data.csv')\n",
        "\n",
        "data.head(3)"
      ],
      "execution_count": 3,
      "outputs": [
        {
          "output_type": "execute_result",
          "data": {
            "text/html": [
              "<div>\n",
              "<style scoped>\n",
              "    .dataframe tbody tr th:only-of-type {\n",
              "        vertical-align: middle;\n",
              "    }\n",
              "\n",
              "    .dataframe tbody tr th {\n",
              "        vertical-align: top;\n",
              "    }\n",
              "\n",
              "    .dataframe thead th {\n",
              "        text-align: right;\n",
              "    }\n",
              "</style>\n",
              "<table border=\"1\" class=\"dataframe\">\n",
              "  <thead>\n",
              "    <tr style=\"text-align: right;\">\n",
              "      <th></th>\n",
              "      <th>Rank</th>\n",
              "      <th>Title</th>\n",
              "      <th>Genre</th>\n",
              "      <th>Description</th>\n",
              "      <th>Director</th>\n",
              "      <th>Actors</th>\n",
              "      <th>Year</th>\n",
              "      <th>Runtime (Minutes)</th>\n",
              "      <th>Rating</th>\n",
              "      <th>Votes</th>\n",
              "      <th>Revenue (Millions)</th>\n",
              "      <th>Metascore</th>\n",
              "    </tr>\n",
              "  </thead>\n",
              "  <tbody>\n",
              "    <tr>\n",
              "      <th>0</th>\n",
              "      <td>1</td>\n",
              "      <td>Guardians of the Galaxy</td>\n",
              "      <td>Action,Adventure,Sci-Fi</td>\n",
              "      <td>A group of intergalactic criminals are forced ...</td>\n",
              "      <td>James Gunn</td>\n",
              "      <td>Chris Pratt, Vin Diesel, Bradley Cooper, Zoe S...</td>\n",
              "      <td>2014</td>\n",
              "      <td>121</td>\n",
              "      <td>8.1</td>\n",
              "      <td>757074</td>\n",
              "      <td>333.13</td>\n",
              "      <td>76.0</td>\n",
              "    </tr>\n",
              "    <tr>\n",
              "      <th>1</th>\n",
              "      <td>2</td>\n",
              "      <td>Prometheus</td>\n",
              "      <td>Adventure,Mystery,Sci-Fi</td>\n",
              "      <td>Following clues to the origin of mankind, a te...</td>\n",
              "      <td>Ridley Scott</td>\n",
              "      <td>Noomi Rapace, Logan Marshall-Green, Michael Fa...</td>\n",
              "      <td>2012</td>\n",
              "      <td>124</td>\n",
              "      <td>7.0</td>\n",
              "      <td>485820</td>\n",
              "      <td>126.46</td>\n",
              "      <td>65.0</td>\n",
              "    </tr>\n",
              "    <tr>\n",
              "      <th>2</th>\n",
              "      <td>3</td>\n",
              "      <td>Split</td>\n",
              "      <td>Horror,Thriller</td>\n",
              "      <td>Three girls are kidnapped by a man with a diag...</td>\n",
              "      <td>M. Night Shyamalan</td>\n",
              "      <td>James McAvoy, Anya Taylor-Joy, Haley Lu Richar...</td>\n",
              "      <td>2016</td>\n",
              "      <td>117</td>\n",
              "      <td>7.3</td>\n",
              "      <td>157606</td>\n",
              "      <td>138.12</td>\n",
              "      <td>62.0</td>\n",
              "    </tr>\n",
              "  </tbody>\n",
              "</table>\n",
              "</div>"
            ],
            "text/plain": [
              "   Rank                    Title  ... Revenue (Millions) Metascore\n",
              "0     1  Guardians of the Galaxy  ...             333.13      76.0\n",
              "1     2               Prometheus  ...             126.46      65.0\n",
              "2     3                    Split  ...             138.12      62.0\n",
              "\n",
              "[3 rows x 12 columns]"
            ]
          },
          "metadata": {
            "tags": []
          },
          "execution_count": 3
        }
      ]
    },
    {
      "cell_type": "markdown",
      "metadata": {
        "id": "KsTm-Rftykgy"
      },
      "source": [
        "## Регрессии:"
      ]
    },
    {
      "cell_type": "markdown",
      "metadata": {
        "id": "G2jUIlCVykg0"
      },
      "source": [
        "В этом датасете для регрессии есть несколько опций, выбирайте то, что более интересно: \n",
        "\n",
        "- определить рейтинг по описанию фильма\n",
        "- определить длительность фильма по году создания\n",
        "- определить рейтинг по длине фильма\n",
        "- Ваша идея"
      ]
    },
    {
      "cell_type": "markdown",
      "metadata": {
        "id": "O77hBghPykg1"
      },
      "source": [
        "Шаги выполнения: \n",
        "- Определите, какие части датасета необходимы для вашей задачи\n",
        "- Если работаете с текстовыми ячейками, векторизуйте тексты\n",
        "- Разделите данные на обучающую и тестовую выборку\n",
        "- Попробуйте обучить [разные регрессионные модели](https://scikit-learn.org/stable/modules/classes.html#module-sklearn.linear_model) (не забудьте импортировать их в эту тетрадку)\n",
        "\n",
        "- Для каждой модели посмотрите на метрики. \n",
        "\n",
        "Какая/какие модель/ли справляются с выбранной Вами задачей наиболее эффективно?"
      ]
    },
    {
      "cell_type": "markdown",
      "metadata": {
        "id": "ylqtoxGd_hRH"
      },
      "source": [
        "Цель: определить длительность фильма по году создания, рейтингу и количеству голосов."
      ]
    },
    {
      "cell_type": "code",
      "metadata": {
        "colab": {
          "base_uri": "https://localhost:8080/"
        },
        "id": "cRrsP6xnykg3",
        "outputId": "fa1bb486-5906-4294-9b0b-da302fb77a77"
      },
      "source": [
        "data.shape"
      ],
      "execution_count": 4,
      "outputs": [
        {
          "output_type": "execute_result",
          "data": {
            "text/plain": [
              "(1000, 12)"
            ]
          },
          "metadata": {
            "tags": []
          },
          "execution_count": 4
        }
      ]
    },
    {
      "cell_type": "code",
      "metadata": {
        "id": "mUVFqHF94MV0"
      },
      "source": [
        "data.rename({'Runtime (Minutes)':'Runtime'}, \n",
        "                    axis=1, inplace=True)"
      ],
      "execution_count": 5,
      "outputs": []
    },
    {
      "cell_type": "code",
      "metadata": {
        "colab": {
          "base_uri": "https://localhost:8080/",
          "height": 282
        },
        "id": "OskCZWXV4MFN",
        "outputId": "05ef73a1-0783-44d5-ec38-4a40f69049aa"
      },
      "source": [
        "data.head(3)"
      ],
      "execution_count": 6,
      "outputs": [
        {
          "output_type": "execute_result",
          "data": {
            "text/html": [
              "<div>\n",
              "<style scoped>\n",
              "    .dataframe tbody tr th:only-of-type {\n",
              "        vertical-align: middle;\n",
              "    }\n",
              "\n",
              "    .dataframe tbody tr th {\n",
              "        vertical-align: top;\n",
              "    }\n",
              "\n",
              "    .dataframe thead th {\n",
              "        text-align: right;\n",
              "    }\n",
              "</style>\n",
              "<table border=\"1\" class=\"dataframe\">\n",
              "  <thead>\n",
              "    <tr style=\"text-align: right;\">\n",
              "      <th></th>\n",
              "      <th>Rank</th>\n",
              "      <th>Title</th>\n",
              "      <th>Genre</th>\n",
              "      <th>Description</th>\n",
              "      <th>Director</th>\n",
              "      <th>Actors</th>\n",
              "      <th>Year</th>\n",
              "      <th>Runtime</th>\n",
              "      <th>Rating</th>\n",
              "      <th>Votes</th>\n",
              "      <th>Revenue (Millions)</th>\n",
              "      <th>Metascore</th>\n",
              "    </tr>\n",
              "  </thead>\n",
              "  <tbody>\n",
              "    <tr>\n",
              "      <th>0</th>\n",
              "      <td>1</td>\n",
              "      <td>Guardians of the Galaxy</td>\n",
              "      <td>Action,Adventure,Sci-Fi</td>\n",
              "      <td>A group of intergalactic criminals are forced ...</td>\n",
              "      <td>James Gunn</td>\n",
              "      <td>Chris Pratt, Vin Diesel, Bradley Cooper, Zoe S...</td>\n",
              "      <td>2014</td>\n",
              "      <td>121</td>\n",
              "      <td>8.1</td>\n",
              "      <td>757074</td>\n",
              "      <td>333.13</td>\n",
              "      <td>76.0</td>\n",
              "    </tr>\n",
              "    <tr>\n",
              "      <th>1</th>\n",
              "      <td>2</td>\n",
              "      <td>Prometheus</td>\n",
              "      <td>Adventure,Mystery,Sci-Fi</td>\n",
              "      <td>Following clues to the origin of mankind, a te...</td>\n",
              "      <td>Ridley Scott</td>\n",
              "      <td>Noomi Rapace, Logan Marshall-Green, Michael Fa...</td>\n",
              "      <td>2012</td>\n",
              "      <td>124</td>\n",
              "      <td>7.0</td>\n",
              "      <td>485820</td>\n",
              "      <td>126.46</td>\n",
              "      <td>65.0</td>\n",
              "    </tr>\n",
              "    <tr>\n",
              "      <th>2</th>\n",
              "      <td>3</td>\n",
              "      <td>Split</td>\n",
              "      <td>Horror,Thriller</td>\n",
              "      <td>Three girls are kidnapped by a man with a diag...</td>\n",
              "      <td>M. Night Shyamalan</td>\n",
              "      <td>James McAvoy, Anya Taylor-Joy, Haley Lu Richar...</td>\n",
              "      <td>2016</td>\n",
              "      <td>117</td>\n",
              "      <td>7.3</td>\n",
              "      <td>157606</td>\n",
              "      <td>138.12</td>\n",
              "      <td>62.0</td>\n",
              "    </tr>\n",
              "  </tbody>\n",
              "</table>\n",
              "</div>"
            ],
            "text/plain": [
              "   Rank                    Title  ... Revenue (Millions) Metascore\n",
              "0     1  Guardians of the Galaxy  ...             333.13      76.0\n",
              "1     2               Prometheus  ...             126.46      65.0\n",
              "2     3                    Split  ...             138.12      62.0\n",
              "\n",
              "[3 rows x 12 columns]"
            ]
          },
          "metadata": {
            "tags": []
          },
          "execution_count": 6
        }
      ]
    },
    {
      "cell_type": "code",
      "metadata": {
        "colab": {
          "base_uri": "https://localhost:8080/",
          "height": 269
        },
        "id": "nvc49Pnw4NGi",
        "outputId": "25f5df72-93d2-4db4-bc3b-12be5d50200c"
      },
      "source": [
        "# метод corr считает корреляцию всех колонок со всеми\n",
        "data.corr()"
      ],
      "execution_count": 7,
      "outputs": [
        {
          "output_type": "execute_result",
          "data": {
            "text/html": [
              "<div>\n",
              "<style scoped>\n",
              "    .dataframe tbody tr th:only-of-type {\n",
              "        vertical-align: middle;\n",
              "    }\n",
              "\n",
              "    .dataframe tbody tr th {\n",
              "        vertical-align: top;\n",
              "    }\n",
              "\n",
              "    .dataframe thead th {\n",
              "        text-align: right;\n",
              "    }\n",
              "</style>\n",
              "<table border=\"1\" class=\"dataframe\">\n",
              "  <thead>\n",
              "    <tr style=\"text-align: right;\">\n",
              "      <th></th>\n",
              "      <th>Rank</th>\n",
              "      <th>Year</th>\n",
              "      <th>Runtime</th>\n",
              "      <th>Rating</th>\n",
              "      <th>Votes</th>\n",
              "      <th>Revenue (Millions)</th>\n",
              "      <th>Metascore</th>\n",
              "    </tr>\n",
              "  </thead>\n",
              "  <tbody>\n",
              "    <tr>\n",
              "      <th>Rank</th>\n",
              "      <td>1.000000</td>\n",
              "      <td>-0.261605</td>\n",
              "      <td>-0.221739</td>\n",
              "      <td>-0.219555</td>\n",
              "      <td>-0.283876</td>\n",
              "      <td>-0.271592</td>\n",
              "      <td>-0.191869</td>\n",
              "    </tr>\n",
              "    <tr>\n",
              "      <th>Year</th>\n",
              "      <td>-0.261605</td>\n",
              "      <td>1.000000</td>\n",
              "      <td>-0.164900</td>\n",
              "      <td>-0.211219</td>\n",
              "      <td>-0.411904</td>\n",
              "      <td>-0.126790</td>\n",
              "      <td>-0.079305</td>\n",
              "    </tr>\n",
              "    <tr>\n",
              "      <th>Runtime</th>\n",
              "      <td>-0.221739</td>\n",
              "      <td>-0.164900</td>\n",
              "      <td>1.000000</td>\n",
              "      <td>0.392214</td>\n",
              "      <td>0.407062</td>\n",
              "      <td>0.267953</td>\n",
              "      <td>0.211978</td>\n",
              "    </tr>\n",
              "    <tr>\n",
              "      <th>Rating</th>\n",
              "      <td>-0.219555</td>\n",
              "      <td>-0.211219</td>\n",
              "      <td>0.392214</td>\n",
              "      <td>1.000000</td>\n",
              "      <td>0.511537</td>\n",
              "      <td>0.217654</td>\n",
              "      <td>0.631897</td>\n",
              "    </tr>\n",
              "    <tr>\n",
              "      <th>Votes</th>\n",
              "      <td>-0.283876</td>\n",
              "      <td>-0.411904</td>\n",
              "      <td>0.407062</td>\n",
              "      <td>0.511537</td>\n",
              "      <td>1.000000</td>\n",
              "      <td>0.639661</td>\n",
              "      <td>0.325684</td>\n",
              "    </tr>\n",
              "    <tr>\n",
              "      <th>Revenue (Millions)</th>\n",
              "      <td>-0.271592</td>\n",
              "      <td>-0.126790</td>\n",
              "      <td>0.267953</td>\n",
              "      <td>0.217654</td>\n",
              "      <td>0.639661</td>\n",
              "      <td>1.000000</td>\n",
              "      <td>0.142397</td>\n",
              "    </tr>\n",
              "    <tr>\n",
              "      <th>Metascore</th>\n",
              "      <td>-0.191869</td>\n",
              "      <td>-0.079305</td>\n",
              "      <td>0.211978</td>\n",
              "      <td>0.631897</td>\n",
              "      <td>0.325684</td>\n",
              "      <td>0.142397</td>\n",
              "      <td>1.000000</td>\n",
              "    </tr>\n",
              "  </tbody>\n",
              "</table>\n",
              "</div>"
            ],
            "text/plain": [
              "                        Rank      Year  ...  Revenue (Millions)  Metascore\n",
              "Rank                1.000000 -0.261605  ...           -0.271592  -0.191869\n",
              "Year               -0.261605  1.000000  ...           -0.126790  -0.079305\n",
              "Runtime            -0.221739 -0.164900  ...            0.267953   0.211978\n",
              "Rating             -0.219555 -0.211219  ...            0.217654   0.631897\n",
              "Votes              -0.283876 -0.411904  ...            0.639661   0.325684\n",
              "Revenue (Millions) -0.271592 -0.126790  ...            1.000000   0.142397\n",
              "Metascore          -0.191869 -0.079305  ...            0.142397   1.000000\n",
              "\n",
              "[7 rows x 7 columns]"
            ]
          },
          "metadata": {
            "tags": []
          },
          "execution_count": 7
        }
      ]
    },
    {
      "cell_type": "code",
      "metadata": {
        "colab": {
          "base_uri": "https://localhost:8080/"
        },
        "id": "egjXuLHV82Qz",
        "outputId": "06395f85-068e-4386-95f3-5e83c813e022"
      },
      "source": [
        "# проверка, что все поля заполнены и нулевых значений нет\n",
        "data.info()"
      ],
      "execution_count": 8,
      "outputs": [
        {
          "output_type": "stream",
          "text": [
            "<class 'pandas.core.frame.DataFrame'>\n",
            "RangeIndex: 1000 entries, 0 to 999\n",
            "Data columns (total 12 columns):\n",
            " #   Column              Non-Null Count  Dtype  \n",
            "---  ------              --------------  -----  \n",
            " 0   Rank                1000 non-null   int64  \n",
            " 1   Title               1000 non-null   object \n",
            " 2   Genre               1000 non-null   object \n",
            " 3   Description         1000 non-null   object \n",
            " 4   Director            1000 non-null   object \n",
            " 5   Actors              1000 non-null   object \n",
            " 6   Year                1000 non-null   int64  \n",
            " 7   Runtime             1000 non-null   int64  \n",
            " 8   Rating              1000 non-null   float64\n",
            " 9   Votes               1000 non-null   int64  \n",
            " 10  Revenue (Millions)  872 non-null    float64\n",
            " 11  Metascore           936 non-null    float64\n",
            "dtypes: float64(3), int64(4), object(5)\n",
            "memory usage: 93.9+ KB\n"
          ],
          "name": "stdout"
        }
      ]
    },
    {
      "cell_type": "code",
      "metadata": {
        "colab": {
          "base_uri": "https://localhost:8080/",
          "height": 444
        },
        "id": "86faBcIs-gKM",
        "outputId": "f9e47993-60ce-4d43-f46d-bd30347f7051"
      },
      "source": [
        "# красивое представление корреляции\n",
        "import matplotlib.pyplot as plt\n",
        "import seaborn as sns\n",
        "fig, ax = plt.subplots(figsize=(15,7))\n",
        "\n",
        "sns.heatmap(data=data.corr(), annot=True, cmap= \"rocket\") \n",
        "\n",
        "plt.title(\"Корреляция признаков\") # подпись графика\n",
        "plt.show()"
      ],
      "execution_count": 9,
      "outputs": [
        {
          "output_type": "display_data",
          "data": {
            "image/png": "[encoded data removed]",
            "text/plain": [
              "<Figure size 1080x504 with 2 Axes>"
            ]
          },
          "metadata": {
            "tags": [],
            "needs_background": "light"
          }
        }
      ]
    },
    {
      "cell_type": "code",
      "metadata": {
        "colab": {
          "base_uri": "https://localhost:8080/",
          "height": 143
        },
        "id": "A561IKm9HnRB",
        "outputId": "8b87d889-d7dd-40c3-9ca7-e58bf529c176"
      },
      "source": [
        "data = data[['Year','Runtime', 'Rating', 'Votes']]\n",
        "\n",
        "data.head(3)"
      ],
      "execution_count": 10,
      "outputs": [
        {
          "output_type": "execute_result",
          "data": {
            "text/html": [
              "<div>\n",
              "<style scoped>\n",
              "    .dataframe tbody tr th:only-of-type {\n",
              "        vertical-align: middle;\n",
              "    }\n",
              "\n",
              "    .dataframe tbody tr th {\n",
              "        vertical-align: top;\n",
              "    }\n",
              "\n",
              "    .dataframe thead th {\n",
              "        text-align: right;\n",
              "    }\n",
              "</style>\n",
              "<table border=\"1\" class=\"dataframe\">\n",
              "  <thead>\n",
              "    <tr style=\"text-align: right;\">\n",
              "      <th></th>\n",
              "      <th>Year</th>\n",
              "      <th>Runtime</th>\n",
              "      <th>Rating</th>\n",
              "      <th>Votes</th>\n",
              "    </tr>\n",
              "  </thead>\n",
              "  <tbody>\n",
              "    <tr>\n",
              "      <th>0</th>\n",
              "      <td>2014</td>\n",
              "      <td>121</td>\n",
              "      <td>8.1</td>\n",
              "      <td>757074</td>\n",
              "    </tr>\n",
              "    <tr>\n",
              "      <th>1</th>\n",
              "      <td>2012</td>\n",
              "      <td>124</td>\n",
              "      <td>7.0</td>\n",
              "      <td>485820</td>\n",
              "    </tr>\n",
              "    <tr>\n",
              "      <th>2</th>\n",
              "      <td>2016</td>\n",
              "      <td>117</td>\n",
              "      <td>7.3</td>\n",
              "      <td>157606</td>\n",
              "    </tr>\n",
              "  </tbody>\n",
              "</table>\n",
              "</div>"
            ],
            "text/plain": [
              "   Year  Runtime  Rating   Votes\n",
              "0  2014      121     8.1  757074\n",
              "1  2012      124     7.0  485820\n",
              "2  2016      117     7.3  157606"
            ]
          },
          "metadata": {
            "tags": []
          },
          "execution_count": 10
        }
      ]
    },
    {
      "cell_type": "code",
      "metadata": {
        "colab": {
          "base_uri": "https://localhost:8080/",
          "height": 167
        },
        "id": "mrSL3fe9-ube",
        "outputId": "e63a1b45-76f5-4fb1-ed6d-e004cbbce9ea"
      },
      "source": [
        "data2 = data.drop('Runtime', axis=1)\n",
        "X = data2.values # выбросили из датафрейма информацию про длительность целевую переменную (длительность)\n",
        "\n",
        "display(X, X.shape)"
      ],
      "execution_count": 11,
      "outputs": [
        {
          "output_type": "display_data",
          "data": {
            "text/plain": [
              "array([[2.01400e+03, 8.10000e+00, 7.57074e+05],\n",
              "       [2.01200e+03, 7.00000e+00, 4.85820e+05],\n",
              "       [2.01600e+03, 7.30000e+00, 1.57606e+05],\n",
              "       ...,\n",
              "       [2.00800e+03, 6.20000e+00, 7.06990e+04],\n",
              "       [2.01400e+03, 5.60000e+00, 4.88100e+03],\n",
              "       [2.01600e+03, 5.30000e+00, 1.24350e+04]])"
            ]
          },
          "metadata": {
            "tags": []
          }
        },
        {
          "output_type": "display_data",
          "data": {
            "text/plain": [
              "(1000, 3)"
            ]
          },
          "metadata": {
            "tags": []
          }
        }
      ]
    },
    {
      "cell_type": "code",
      "metadata": {
        "colab": {
          "base_uri": "https://localhost:8080/",
          "height": 1000
        },
        "id": "kOd3CLDEDc1e",
        "outputId": "cff9afe5-e88c-409b-d2e6-4575e94f5535"
      },
      "source": [
        "y = data['Runtime'].values # отдельно вынесли массив со значениями целевой переменной (длительности)\n",
        "display(y, y.shape)"
      ],
      "execution_count": 12,
      "outputs": [
        {
          "output_type": "display_data",
          "data": {
            "text/plain": [
              "array([121, 124, 117, 108, 123, 103, 128,  89, 141, 116, 133, 127, 133,\n",
              "       107, 109,  87, 139, 123, 118, 116, 120, 137, 108,  92, 120,  83,\n",
              "       159,  99, 100, 115, 111, 116, 144, 108, 107, 147, 169, 115, 132,\n",
              "       113,  89, 111,  73, 115,  99, 136, 132,  91, 122, 130, 136,  91,\n",
              "       118, 101, 152, 161,  88, 106, 117,  96, 151,  86, 112, 125, 130,\n",
              "       129, 133, 120, 106, 107, 133, 124, 108,  97, 108, 169, 143, 153,\n",
              "       151, 116, 148, 118, 180, 149, 137, 124, 129, 162, 187, 128, 153,\n",
              "       123, 146, 114, 141, 116, 106,  90, 105, 151, 132, 115, 144, 106,\n",
              "       116, 102, 120, 110, 105, 108,  89, 134, 118, 117, 130, 105, 118,\n",
              "       161, 104,  97, 127, 139,  98,  86, 164, 106, 165,  96, 108, 156,\n",
              "       139, 125,  86, 107, 130, 140, 122, 143, 138, 148, 127,  94, 130,\n",
              "       118, 165, 144, 104, 162, 113, 121, 117, 142,  88, 121,  91,  94,\n",
              "       131, 118, 112, 121, 106,  90, 132, 118, 144, 122, 129, 109, 144,\n",
              "       148, 118, 101,  84, 126, 102, 130, 130, 107, 134, 117, 118,  92,\n",
              "       105, 112, 124, 135, 113, 119, 100, 125, 133,  94, 128,  92, 140,\n",
              "       124,  95, 148, 114, 107, 113, 146, 134, 126, 120, 132,  99, 118,\n",
              "       125, 111, 114,  94, 144, 104, 112, 126, 136, 104, 100, 117,  96,\n",
              "       117, 100, 158, 110, 163, 119, 107,  97, 102, 118,  95, 139, 131,\n",
              "       114, 102, 100,  85,  99, 125, 134,  95,  90, 126, 118, 158, 109,\n",
              "       119, 119, 112,  92,  94, 147, 142, 112, 100, 131, 105,  81, 118,\n",
              "       119, 108, 108, 117, 112,  99, 102, 172, 107,  85, 143, 169, 110,\n",
              "       106,  89, 124, 112, 157, 117, 130, 115, 128, 113, 119,  98, 110,\n",
              "       105, 127,  95,  99, 118, 112,  92, 107, 143, 111,  94, 109, 127,\n",
              "       158, 132, 121,  95,  97, 104, 148, 113, 110, 104, 110, 129, 180,\n",
              "        93, 144, 138, 126, 112,  81,  94, 131, 104,  84, 114, 109, 120,\n",
              "       106, 110, 103,  95, 133,  87, 133, 117, 150, 123,  97, 122,  88,\n",
              "       126, 117, 107, 119, 131, 102, 139, 110, 127, 138, 102,  94,  89,\n",
              "       124, 119,  96, 119, 102, 118, 123, 107, 123,  98, 100, 132,  88,\n",
              "       106, 120, 115, 117, 136, 123,  89, 113, 113, 110, 111,  99, 123,\n",
              "       133,  97, 126,  86, 124,  81, 142, 100, 121, 105, 140, 126, 132,\n",
              "       100, 115, 122,  98, 101, 112, 112, 113,  85, 110,  91,  91,  92,\n",
              "        95, 118, 100, 157, 100, 137,  99,  93, 115, 104, 130,  98, 102,\n",
              "       108, 123, 146, 101, 111,  88, 108, 102,  99, 166, 102, 115, 104,\n",
              "       109, 170, 102, 116, 132, 102,  97, 123, 114, 103,  88, 130, 117,\n",
              "       100, 112,  81, 125,  95, 101, 102, 100, 124, 101, 108, 119, 109,\n",
              "       115, 108, 100, 117, 119, 125,  97, 109,  97, 103, 129, 100,  91,\n",
              "       112, 107, 157, 123, 158, 153, 120, 106, 137,  94,  96, 113, 111,\n",
              "        97, 115,  97,  97,  94, 117, 115, 105, 111,  98, 118,  85, 114,\n",
              "       108, 101, 106, 112, 109,  96, 131, 118, 109, 124, 141, 110, 131,\n",
              "        95,  94,  91,  94, 124,  91, 132, 115,  92, 150, 120, 161, 111,\n",
              "       120, 117, 133, 112, 106, 103, 109, 100, 123, 135, 117,  92, 126,\n",
              "        89, 125, 132, 130, 108,  92, 108, 128, 105, 107, 126, 103, 112,\n",
              "        92, 108,  98, 100, 106, 123, 100, 104, 106,  91, 108,  92, 122,\n",
              "        84, 103,  91, 110, 101, 127, 111, 154,  96,  98,  98, 109, 107,\n",
              "       121, 101, 117, 106, 117, 125, 146, 101,  90, 103,  94, 110, 133,\n",
              "       114, 137, 110, 107,  93, 152, 112, 106, 105,  96, 116, 110,  83,\n",
              "        97,  95, 113,  88, 129,  95, 110,  95, 100,  98, 139, 120, 124,\n",
              "       162, 135, 160,  90,  92, 101, 139,  95, 114, 103,  88, 108,  97,\n",
              "       109, 118, 104,  88,  93,  98, 112, 112, 120,  85,  98, 129,  93,\n",
              "       116,  83, 113, 117, 122, 119, 113,  85, 116, 101, 133, 101, 104,\n",
              "       116, 101, 103,  87,  83, 140, 165, 101, 100,  96, 111,  95, 114,\n",
              "       117, 102, 129, 106, 115, 129, 143, 114, 137, 131, 114,  98, 126,\n",
              "       115, 102, 101, 140, 123, 112,  90, 130, 123, 118,  96,  88, 103,\n",
              "       122,  96, 151, 104, 105, 127,  93, 100, 106, 128,  94, 111, 106,\n",
              "       111, 165,  98,  87, 106,  88, 141,  96, 150,  80,  95, 131, 116,\n",
              "       108, 104,  86, 138,  97, 123, 115, 102,  89, 140, 113, 109, 110,\n",
              "       117, 100, 119, 104, 100, 149, 104, 126,  93, 128, 118, 112,  99,\n",
              "       111, 129, 110,  96, 116,  86, 127,  99, 106, 113, 104, 107, 103,\n",
              "       106, 111,  92,  87, 113, 116, 114, 114, 102, 118,  85, 153, 114,\n",
              "       122, 109, 119, 106,  95,  98, 110,  96, 106, 102,  90,  90, 108,\n",
              "       113, 117, 120,  82,  95, 134, 108,  92,  89,  92, 118, 111, 101,\n",
              "        66, 102, 108, 120,  98, 114, 109,  88, 110, 115, 105, 104, 111,\n",
              "       116,  95, 111, 128,  93, 100, 123, 112,  87, 129,  95,  94,  99,\n",
              "        73, 107, 123, 118, 119,  90,  88,  91, 108, 191,  87, 102,  94,\n",
              "       120, 112,  83, 108, 128, 113, 102, 115, 108, 125, 135,  97,  98,\n",
              "       138,  94, 131, 108, 128, 123, 104, 116,  96,  92, 111, 115, 123,\n",
              "       107, 141, 113, 129,  81,  85, 108, 120, 110, 122,  99, 126, 116,\n",
              "        85,  93, 107, 114, 100,  98,  98, 110,  99, 120, 125, 119,  96,\n",
              "       101, 143, 139, 101,  88, 100, 104, 134, 127, 145,  92, 105, 123,\n",
              "       117,  96,  89, 101, 105,  98, 102, 117, 110,  95, 122,  95, 106,\n",
              "       133,  87,  96,  89, 122, 156, 103,  91, 147, 113,  97,  93, 102,\n",
              "       103, 154, 117, 110, 110,  86, 144, 113, 107,  97,  97, 120, 108,\n",
              "        92,  96, 108, 109,  98, 124,  86, 106, 119,  99, 132,  91, 100,\n",
              "        80, 105, 115, 146,  95, 105,  94, 100, 109, 117, 110, 101, 101,\n",
              "       115, 108, 104, 180, 122, 123,  83, 150,  92, 105, 123, 111, 124,\n",
              "        94, 113,  92,  97, 120, 109, 118, 133, 104, 111, 102,  92, 104,\n",
              "        99, 128,  92, 165,  97,  97,  88, 111,  94,  98,  93,  87])"
            ]
          },
          "metadata": {
            "tags": []
          }
        },
        {
          "output_type": "display_data",
          "data": {
            "text/plain": [
              "(1000,)"
            ]
          },
          "metadata": {
            "tags": []
          }
        }
      ]
    },
    {
      "cell_type": "code",
      "metadata": {
        "id": "QjQvP-SXEmku"
      },
      "source": [
        "# делим датасет на части\n",
        "from sklearn.model_selection import train_test_split"
      ],
      "execution_count": 15,
      "outputs": []
    },
    {
      "cell_type": "code",
      "metadata": {
        "id": "ZMt9anO2ErGa"
      },
      "source": [
        "X_train, X_test, y_train, y_test = train_test_split(X, y, random_state=42) # создали переменные, разделили данные"
      ],
      "execution_count": 16,
      "outputs": []
    },
    {
      "cell_type": "markdown",
      "metadata": {
        "id": "xyXHr5aKE4k9"
      },
      "source": [
        "Ridge"
      ]
    },
    {
      "cell_type": "code",
      "metadata": {
        "colab": {
          "base_uri": "https://localhost:8080/"
        },
        "id": "u0g0VGCOEuoT",
        "outputId": "7988022a-d393-43c0-d8ea-ade86c2595e2"
      },
      "source": [
        "# силу регуляризации можно варьировать параметром alpha\n",
        "regressor = Ridge(alpha=0.01) # 0.01 и 10  - не меняется результат.\n",
        "\n",
        "regressor.fit(X_train, y_train)"
      ],
      "execution_count": 17,
      "outputs": [
        {
          "output_type": "execute_result",
          "data": {
            "text/plain": [
              "Ridge(alpha=0.01, copy_X=True, fit_intercept=True, max_iter=None,\n",
              "      normalize=False, random_state=None, solver='auto', tol=0.001)"
            ]
          },
          "metadata": {
            "tags": []
          },
          "execution_count": 17
        }
      ]
    },
    {
      "cell_type": "code",
      "metadata": {
        "colab": {
          "base_uri": "https://localhost:8080/"
        },
        "id": "DDHErERSE6S3",
        "outputId": "8cd38523-5b95-4658-acfb-a0a8216b6511"
      },
      "source": [
        "list(zip(data2.columns, regressor.coef_)) # определили зависимость между целевой переменной и основными признаками"
      ],
      "execution_count": 18,
      "outputs": [
        {
          "output_type": "execute_result",
          "data": {
            "text/plain": [
              "[('Year', 0.20205728484094948),\n",
              " ('Rating', 4.7228475514577),\n",
              " ('Votes', 3.163035554510612e-05)]"
            ]
          },
          "metadata": {
            "tags": []
          },
          "execution_count": 18
        }
      ]
    },
    {
      "cell_type": "code",
      "metadata": {
        "id": "nkxJa4SvE8su"
      },
      "source": [
        "# Чтобы оценить качество модели, предскажем значения целевой переменной на тестовой выборке и сравним с настоящими значениями.\n",
        "preds = regressor.predict(X_test)\n"
      ],
      "execution_count": 19,
      "outputs": []
    },
    {
      "cell_type": "markdown",
      "metadata": {
        "id": "86HoMi-VJB6W"
      },
      "source": [
        "Оценка результатов алгоритма"
      ]
    },
    {
      "cell_type": "code",
      "metadata": {
        "id": "9e37fkMaJF2E"
      },
      "source": [
        "from sklearn.metrics import mean_absolute_error, mean_squared_error\n"
      ],
      "execution_count": 20,
      "outputs": []
    },
    {
      "cell_type": "code",
      "metadata": {
        "colab": {
          "base_uri": "https://localhost:8080/"
        },
        "id": "X-fUNncqJHNH",
        "outputId": "5c3dde0a-3c97-4a64-84cc-4bf37087a4f3"
      },
      "source": [
        "mean_absolute_error(y_test, preds)\n",
        "# насколько наши данные отклонились от их настоящего значения.\n",
        "# т.е. в среднем алгоритм ошибается на 13,6 минут"
      ],
      "execution_count": 22,
      "outputs": [
        {
          "output_type": "execute_result",
          "data": {
            "text/plain": [
              "13.613648442295498"
            ]
          },
          "metadata": {
            "tags": []
          },
          "execution_count": 22
        }
      ]
    },
    {
      "cell_type": "code",
      "metadata": {
        "colab": {
          "base_uri": "https://localhost:8080/"
        },
        "id": "L6j8Z8CIMghW",
        "outputId": "1d0fcecc-c9fd-42b1-cd3d-f28bf4db0b00"
      },
      "source": [
        "from sklearn.metrics import r2_score\n",
        "r2_score(y_test, preds)"
      ],
      "execution_count": 23,
      "outputs": [
        {
          "output_type": "execute_result",
          "data": {
            "text/plain": [
              "0.18142534814514621"
            ]
          },
          "metadata": {
            "tags": []
          },
          "execution_count": 23
        }
      ]
    },
    {
      "cell_type": "markdown",
      "metadata": {
        "id": "5aw1Ust2LbVq"
      },
      "source": [
        "Lasso"
      ]
    },
    {
      "cell_type": "code",
      "metadata": {
        "colab": {
          "base_uri": "https://localhost:8080/"
        },
        "id": "PdhiKem6LcQA",
        "outputId": "52133609-74f2-4122-f304-5087fdacd72e"
      },
      "source": [
        "regressor = Lasso(alpha=0.1)\n",
        "regressor.fit(X_train, y_train)\n",
        "preds = regressor.predict(X_test)\n",
        "\n",
        "\n",
        "print(mean_absolute_error(y_test, preds))\n",
        "print(r2_score(y_test, preds))"
      ],
      "execution_count": 24,
      "outputs": [
        {
          "output_type": "stream",
          "text": [
            "13.614482932624968\n",
            "0.18125636616381646\n"
          ],
          "name": "stdout"
        }
      ]
    },
    {
      "cell_type": "markdown",
      "metadata": {
        "id": "zMPTmLAxRctr"
      },
      "source": [
        "Итоги: я попробовала использовать модели Ridge и Lasso. \n",
        "В качестве метрики использовалась средняя абсолютная ошибка. Она показывает отклонение от правильного ответа в тех же единицах измерения. В обеих моделях алгоритм ошибается в среднем на 13,6 минут. R2 score также одинаковый (до тысячных). Таким образом, можно сделать вывод, что обе модели работают неэффективно и сложно назвать их применимыми для реальных задач. Предполагаю, что дело может быть в малой корреляции между переменными.\n"
      ]
    }
  ]
}